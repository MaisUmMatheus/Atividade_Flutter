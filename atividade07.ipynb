{
  "nbformat": 4,
  "nbformat_minor": 0,
  "metadata": {
    "colab": {
      "provenance": [],
      "authorship_tag": "ABX9TyN4Gg1bF8LybZaztzkm97G7",
      "include_colab_link": true
    },
    "kernelspec": {
      "name": "python3",
      "display_name": "Python 3"
    },
    "language_info": {
      "name": "python"
    }
  },
  "cells": [
    {
      "cell_type": "markdown",
      "metadata": {
        "id": "view-in-github",
        "colab_type": "text"
      },
      "source": [
        "<a href=\"https://colab.research.google.com/github/MaisUmMatheus/Atividade_Flutter/blob/main/atividade07.ipynb\" target=\"_parent\"><img src=\"https://colab.research.google.com/assets/colab-badge.svg\" alt=\"Open In Colab\"/></a>"
      ]
    },
    {
      "cell_type": "code",
      "execution_count": null,
      "metadata": {
        "id": "YqVCW7DYBEDJ"
      },
      "outputs": [],
      "source": [
        "import heapq"
      ]
    },
    {
      "cell_type": "code",
      "source": [
        "\n",
        "def greedy_search(graph, start, goal, attractions):\n",
        "    visited = set()\n",
        "    priority_queue = [(0, start)]  # Inicializa a fila de prioridade com o nó inicial e custo zero\n",
        "    while priority_queue:\n",
        "        cost, current_node = heapq.heappop(priority_queue)  # Remove o nó com o menor custo da fila\n",
        "        if current_node == goal:\n",
        "            return cost  # Retorna o custo acumulado se o objetivo for alcançado\n",
        "        if current_node not in visited:\n",
        "            visited.add(current_node)\n",
        "            for neighbor, neighbor_cost in graph[current_node].items():\n",
        "                num_attractions = len(attractions.get(neighbor, []))\n",
        "                heapq.heappush(priority_queue, (cost + neighbor_cost + num_attractions, neighbor))  # Adiciona vizinhos à fila de prioridade\n",
        "    return float('inf')  # Retorna infinito se o objetivo não for alcançado\n",
        ""
      ],
      "metadata": {
        "id": "CCoviQM1BHjp"
      },
      "execution_count": null,
      "outputs": []
    },
    {
      "cell_type": "code",
      "source": [
        "\n",
        "grafo_entregas = {\n",
        "    'A': {'B': 10, 'C': 20, 'D': 15},\n",
        "    'B': {'A': 10, 'C': 25, 'E': 30},\n",
        "    'C': {'A': 20, 'B': 25, 'D': 35, 'E': 40},\n",
        "    'D': {'A': 15, 'C': 35, 'E': 45},\n",
        "    'E': {'B': 30, 'C': 40, 'D': 45}\n",
        "}"
      ],
      "metadata": {
        "id": "bcShxFXSBHoj"
      },
      "execution_count": null,
      "outputs": []
    },
    {
      "cell_type": "code",
      "source": [
        "atrações = {\n",
        "    'A': ['Clube Aquático'],\n",
        "    'B': ['Show da Turma de Mônica'],\n",
        "    'C': ['Apresentação de um Coral', 'Museu de Arte'],\n",
        "    'D': [],\n",
        "    'E': ['Parque de Diversões']\n",
        "}"
      ],
      "metadata": {
        "id": "czsu-9VKBHvb"
      },
      "execution_count": null,
      "outputs": []
    },
    {
      "cell_type": "code",
      "source": [
        "start_node = 'A'\n",
        "goal_node = 'D'\n",
        "\n",
        "# Realiza a busca gulosa\n",
        "custo_caminho_mais_curto = greedy_search(grafo_entregas, start_node, goal_node, atrações)\n",
        "print(\"O custo do caminho mais curto de\", start_node, \"para\", goal_node, \"é:\", custo_caminho_mais_curto)"
      ],
      "metadata": {
        "id": "T_2LK0ITBOp3"
      },
      "execution_count": null,
      "outputs": []
    }
  ]
}